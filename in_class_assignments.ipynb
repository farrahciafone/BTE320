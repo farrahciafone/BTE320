{
  "nbformat": 4,
  "nbformat_minor": 0,
  "metadata": {
    "colab": {
      "provenance": [],
      "authorship_tag": "ABX9TyNbo0FBy+zQmVIlGyia4Nzy",
      "include_colab_link": true
    },
    "kernelspec": {
      "name": "python3",
      "display_name": "Python 3"
    },
    "language_info": {
      "name": "python"
    }
  },
  "cells": [
    {
      "cell_type": "markdown",
      "metadata": {
        "id": "view-in-github",
        "colab_type": "text"
      },
      "source": [
        "<a href=\"https://colab.research.google.com/github/farrahciafone/BTE320/blob/main/in_class_assignments.ipynb\" target=\"_parent\"><img src=\"https://colab.research.google.com/assets/colab-badge.svg\" alt=\"Open In Colab\"/></a>"
      ]
    },
    {
      "cell_type": "markdown",
      "source": [
        "September 3rd - Income Statement"
      ],
      "metadata": {
        "id": "Z-fKoVadglqM"
      }
    },
    {
      "cell_type": "code",
      "execution_count": null,
      "metadata": {
        "colab": {
          "base_uri": "https://localhost:8080/"
        },
        "id": "4G0-_uUEgaj0",
        "outputId": "4caa4ed0-527f-40e1-ee63-23bc7e93fcf5"
      },
      "outputs": [
        {
          "output_type": "stream",
          "name": "stdout",
          "text": [
            "Enter sales ($): 12000\n",
            "Enter Cost of Goods sold (%): 40\n",
            "Enter tax rate (%): 30\n",
            "Sales: $12000.0\n",
            "Cost of Goods Sold: $4800.0\n",
            "Gross Profit: $7200.0\n",
            "Taxes: $2160.0\n",
            "Net Income: $5040.0\n"
          ]
        }
      ],
      "source": [
        "#inputs\n",
        "sales = float(input(\"Enter sales ($): \"))\n",
        "cogs_pct =float(input(\"Enter Cost of Goods sold (%): \"))\n",
        "rate = int(input(\"Enter tax rate (%): \"))\n",
        "#processes\n",
        "cogs = sales * (cogs_pct/100)\n",
        "grossProfit = sales-cogs\n",
        "taxes = grossProfit*(rate/100)\n",
        "netIncome = grossProfit-taxes\n",
        "#outputs\n",
        "print(f\"Sales: ${sales}\")\n",
        "print(f\"Cost of Goods Sold: ${cogs}\")\n",
        "print(f\"Gross Profit: ${grossProfit}\")\n",
        "print(f\"Taxes: ${taxes}\")\n",
        "print(f\"Net Income: ${netIncome}\")"
      ]
    },
    {
      "cell_type": "markdown",
      "source": [
        "September 8th - Inventory management"
      ],
      "metadata": {
        "id": "gLvpKKzhIsKf"
      }
    },
    {
      "cell_type": "code",
      "source": [
        "#inputs\n",
        "D = int(input(\"Enter demand (units/year): \"))\n",
        "S = float(input(\"Enter reorder cost ($/order): \"))\n",
        "H = float(input(\"Enter holding cost ($/unit/year): \"))\n",
        "#processes\n",
        "EOQ = ((2*D*S)/H)**0.5\n",
        "#outputs\n",
        "print(f\"EOQ: {EOQ} units\")"
      ],
      "metadata": {
        "colab": {
          "base_uri": "https://localhost:8080/"
        },
        "id": "2loo2Br-IzRa",
        "outputId": "da601ff7-0c50-4642-f6ba-ec78f974ec48"
      },
      "execution_count": null,
      "outputs": [
        {
          "output_type": "stream",
          "name": "stdout",
          "text": [
            "Enter demand (units/year): 100\n",
            "Enter reorder cost ($/order): 1.5\n",
            "Enter holding cost ($/unit/year): 3\n",
            "EOQ: 10.0 units\n"
          ]
        }
      ]
    },
    {
      "cell_type": "markdown",
      "source": [
        "September 15th - numerical calculator"
      ],
      "metadata": {
        "id": "jnuhuXP6L5ph"
      }
    },
    {
      "cell_type": "code",
      "source": [
        "num1 = float(input(\"Enter number 1: \"))\n",
        "num2 = float(input(\"Enter number 2: \"))\n",
        "op = input(\"Enter operator (+, -, *, /, //, **, %): \")\n",
        "\n",
        "res = None\n",
        "\n",
        "if op == \"+\":\n",
        "  res = num1 + num2\n",
        "elif op == \"-\":\n",
        "  res = num1 - num2\n",
        "elif op == \"/\":\n",
        "  res = num1 / num2\n",
        "elif op == \"*\":\n",
        "  res = num1 * num2\n",
        "elif op == \"%\":\n",
        "  res = num1 % num2\n",
        "elif op == \"**\":\n",
        "  res = num1 ** num2\n",
        "elif op == \"//\":\n",
        "  res = num1 // num2\n",
        "else:\n",
        "  print(\"Invalid operator entered, please try again.\")\n",
        "\n",
        "print(f\"Result: {res}\")"
      ],
      "metadata": {
        "colab": {
          "base_uri": "https://localhost:8080/"
        },
        "id": "V8s7i4-2ME6d",
        "outputId": "9744d518-4fd3-49b0-b561-d79ddb37579f"
      },
      "execution_count": 9,
      "outputs": [
        {
          "output_type": "stream",
          "name": "stdout",
          "text": [
            "Enter number 1: 5\n",
            "Enter number 2: 5\n",
            "Enter operator (+, -, *, /, //, **, %): ***\n",
            "Invalid operator entered, please try again.\n",
            "Result: None\n"
          ]
        }
      ]
    }
  ]
}