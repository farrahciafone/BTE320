{
  "nbformat": 4,
  "nbformat_minor": 0,
  "metadata": {
    "colab": {
      "provenance": [],
      "authorship_tag": "ABX9TyNEhDEwN5SvUWHqFkrFgxEV",
      "include_colab_link": true
    },
    "kernelspec": {
      "name": "python3",
      "display_name": "Python 3"
    },
    "language_info": {
      "name": "python"
    }
  },
  "cells": [
    {
      "cell_type": "markdown",
      "metadata": {
        "id": "view-in-github",
        "colab_type": "text"
      },
      "source": [
        "<a href=\"https://colab.research.google.com/github/farrahciafone/BTE320/blob/main/in_class_assignments.ipynb\" target=\"_parent\"><img src=\"https://colab.research.google.com/assets/colab-badge.svg\" alt=\"Open In Colab\"/></a>"
      ]
    },
    {
      "cell_type": "markdown",
      "source": [
        "September 3rd - Income Statement"
      ],
      "metadata": {
        "id": "Z-fKoVadglqM"
      }
    },
    {
      "cell_type": "code",
      "execution_count": null,
      "metadata": {
        "colab": {
          "base_uri": "https://localhost:8080/"
        },
        "id": "4G0-_uUEgaj0",
        "outputId": "4caa4ed0-527f-40e1-ee63-23bc7e93fcf5"
      },
      "outputs": [
        {
          "output_type": "stream",
          "name": "stdout",
          "text": [
            "Enter sales ($): 12000\n",
            "Enter Cost of Goods sold (%): 40\n",
            "Enter tax rate (%): 30\n",
            "Sales: $12000.0\n",
            "Cost of Goods Sold: $4800.0\n",
            "Gross Profit: $7200.0\n",
            "Taxes: $2160.0\n",
            "Net Income: $5040.0\n"
          ]
        }
      ],
      "source": [
        "#inputs\n",
        "sales = float(input(\"Enter sales ($): \"))\n",
        "cogs_pct =float(input(\"Enter Cost of Goods sold (%): \"))\n",
        "rate = int(input(\"Enter tax rate (%): \"))\n",
        "#processes\n",
        "cogs = sales * (cogs_pct/100)\n",
        "grossProfit = sales-cogs\n",
        "taxes = grossProfit*(rate/100)\n",
        "netIncome = grossProfit-taxes\n",
        "#outputs\n",
        "print(f\"Sales: ${sales}\")\n",
        "print(f\"Cost of Goods Sold: ${cogs}\")\n",
        "print(f\"Gross Profit: ${grossProfit}\")\n",
        "print(f\"Taxes: ${taxes}\")\n",
        "print(f\"Net Income: ${netIncome}\")"
      ]
    },
    {
      "cell_type": "markdown",
      "source": [
        "September 8th - Inventory management"
      ],
      "metadata": {
        "id": "gLvpKKzhIsKf"
      }
    },
    {
      "cell_type": "code",
      "source": [
        "#inputs\n",
        "D = int(input(\"Enter demand (units/year): \"))\n",
        "S = float(input(\"Enter reorder cost ($/order): \"))\n",
        "H = float(input(\"Enter holding cost ($/unit/year): \"))\n",
        "#processes\n",
        "EOQ = ((2*D*S)/H)**0.5\n",
        "#outputs\n",
        "print(f\"EOQ: {EOQ} units\")"
      ],
      "metadata": {
        "colab": {
          "base_uri": "https://localhost:8080/"
        },
        "id": "2loo2Br-IzRa",
        "outputId": "da601ff7-0c50-4642-f6ba-ec78f974ec48"
      },
      "execution_count": null,
      "outputs": [
        {
          "output_type": "stream",
          "name": "stdout",
          "text": [
            "Enter demand (units/year): 100\n",
            "Enter reorder cost ($/order): 1.5\n",
            "Enter holding cost ($/unit/year): 3\n",
            "EOQ: 10.0 units\n"
          ]
        }
      ]
    },
    {
      "cell_type": "markdown",
      "source": [
        "September 15th - numerical calculator"
      ],
      "metadata": {
        "id": "jnuhuXP6L5ph"
      }
    },
    {
      "cell_type": "code",
      "source": [
        "num1 = float(input(\"Enter number 1: \"))\n",
        "num2 = float(input(\"Enter number 2: \"))\n",
        "op = input(\"Enter operator (+, -, *, /, //, **, %): \")\n",
        "\n",
        "res = None\n",
        "\n",
        "if op == \"+\":\n",
        "  res = num1 + num2\n",
        "elif op == \"-\":\n",
        "  res = num1 - num2\n",
        "elif op == \"/\":\n",
        "  res = num1 / num2\n",
        "elif op == \"*\":\n",
        "  res = num1 * num2\n",
        "elif op == \"%\":\n",
        "  res = num1 % num2\n",
        "elif op == \"**\":\n",
        "  res = num1 ** num2\n",
        "elif op == \"//\":\n",
        "  res = num1 // num2\n",
        "else:\n",
        "  print(\"Invalid operator entered, please try again.\")\n",
        "\n",
        "print(f\"Result: {res}\")"
      ],
      "metadata": {
        "colab": {
          "base_uri": "https://localhost:8080/"
        },
        "id": "V8s7i4-2ME6d",
        "outputId": "9744d518-4fd3-49b0-b561-d79ddb37579f"
      },
      "execution_count": null,
      "outputs": [
        {
          "output_type": "stream",
          "name": "stdout",
          "text": [
            "Enter number 1: 5\n",
            "Enter number 2: 5\n",
            "Enter operator (+, -, *, /, //, **, %): ***\n",
            "Invalid operator entered, please try again.\n",
            "Result: None\n"
          ]
        }
      ]
    },
    {
      "cell_type": "markdown",
      "source": [
        "September 17th - parking garage"
      ],
      "metadata": {
        "id": "tQICFdy_gZ3L"
      }
    },
    {
      "cell_type": "code",
      "source": [
        "print(\"Hours   Fee\")\n",
        "for hour in range(1,9):\n",
        "  fee = (hour*2.5)+5\n",
        "  if fee < 10:\n",
        "    fee = 10.0\n",
        "  elif fee > 20:\n",
        "    fee = 20.0\n",
        "  print(f'{hour}\\t{fee}')\n",
        "\n"
      ],
      "metadata": {
        "colab": {
          "base_uri": "https://localhost:8080/"
        },
        "id": "1nmq_o6CgZQv",
        "outputId": "39453775-34df-4fff-dd91-cd5f021174c5"
      },
      "execution_count": null,
      "outputs": [
        {
          "output_type": "stream",
          "name": "stdout",
          "text": [
            "Hours   Fee\n",
            "1\t10.0\n",
            "2\t10.0\n",
            "3\t12.5\n",
            "4\t15.0\n",
            "5\t17.5\n",
            "6\t20.0\n",
            "7\t20.0\n",
            "8\t20.0\n"
          ]
        }
      ]
    },
    {
      "cell_type": "markdown",
      "source": [
        "September 22nd - movie theater"
      ],
      "metadata": {
        "id": "wkRxui7eNyhB"
      }
    },
    {
      "cell_type": "code",
      "source": [
        "for adDollars in range(0,201,25):\n",
        "  revenue = 10 * (20 + (2*adDollars**0.5))\n",
        "  costs = 200 + adDollars\n",
        "  profit = revenue - costs\n",
        "  print(adDollars, round(profit))"
      ],
      "metadata": {
        "colab": {
          "base_uri": "https://localhost:8080/"
        },
        "id": "uhsE1e7dN3cv",
        "outputId": "88344d10-2734-4b02-d8c7-b6fc063e39f2"
      },
      "execution_count": null,
      "outputs": [
        {
          "output_type": "stream",
          "name": "stdout",
          "text": [
            "0 0\n",
            "25 75\n",
            "50 91\n",
            "75 98\n",
            "100 100\n",
            "125 99\n",
            "150 95\n",
            "175 90\n",
            "200 83\n"
          ]
        }
      ]
    },
    {
      "cell_type": "markdown",
      "source": [
        "September 24th - append items to list iteratively (while loop)"
      ],
      "metadata": {
        "id": "bZNTMgbVucOA"
      }
    },
    {
      "cell_type": "code",
      "source": [
        "l = []\n",
        "\n",
        "i = float(input(\"Give a number: \"))\n",
        "\n",
        "while i != 0:\n",
        "  l.append(i)\n",
        "  i = float(input(\"Give another number: \"))\n",
        "\n",
        "l.sort(reverse=True)\n",
        "print(l)\n"
      ],
      "metadata": {
        "colab": {
          "base_uri": "https://localhost:8080/"
        },
        "collapsed": true,
        "id": "ZUZrcwziupTw",
        "outputId": "8beb57ca-27b2-4e07-8827-d1b5dcf0be3e"
      },
      "execution_count": null,
      "outputs": [
        {
          "output_type": "stream",
          "name": "stdout",
          "text": [
            "Give a number: 1\n",
            "Give another number: 2\n",
            "Give another number: 3\n",
            "Give another number: 0\n",
            "[3.0, 2.0, 1.0]\n"
          ]
        }
      ]
    },
    {
      "cell_type": "markdown",
      "source": [
        "September 29th - rock-paper-scissors"
      ],
      "metadata": {
        "id": "U4iUecJ5e1gz"
      }
    },
    {
      "cell_type": "code",
      "source": [
        "import random\n",
        "\n",
        "def play_rps():\n",
        "    options = [\"rock\", \"paper\", \"scissors\"]\n",
        "\n",
        "    print(\"Welcome to Rock, Paper, Scissors!\")\n",
        "\n",
        "    while True:\n",
        "        # Ask the user if they want to play\n",
        "        play = input(\"Do you want to play? (yes/no): \").strip().lower()\n",
        "\n",
        "        if play != \"yes\":\n",
        "            print(\"Thanks for playing! Goodbye.\")\n",
        "            break\n",
        "\n",
        "        # Get user's choice\n",
        "        user_choice = input(\"Enter rock, paper, or scissors: \").strip().lower()\n",
        "        if user_choice not in options:\n",
        "            print(\"Invalid choice. Please try again.\")\n",
        "            continue\n",
        "\n",
        "        # Computer's random choice\n",
        "        computer_choice = random.choice(options)\n",
        "        print(f\"Computer chose: {computer_choice}\")\n",
        "\n",
        "        # Decide winner\n",
        "        if user_choice == computer_choice:\n",
        "            print(\"It's a tie!\")\n",
        "        elif (\n",
        "            (user_choice == \"rock\" and computer_choice == \"scissors\") or\n",
        "            (user_choice == \"paper\" and computer_choice == \"rock\") or\n",
        "            (user_choice == \"scissors\" and computer_choice == \"paper\")\n",
        "        ):\n",
        "            print(\"You win!\")\n",
        "        else:\n",
        "            print(\"Computer wins!\")\n",
        "\n",
        "        print(\"-\" * 30)\n",
        "\n",
        "# Run the game\n",
        "play_rps()\n"
      ],
      "metadata": {
        "colab": {
          "base_uri": "https://localhost:8080/"
        },
        "id": "UmjsqRDAe0eU",
        "outputId": "c26bc545-fff9-4211-d5ef-460fbcafd525"
      },
      "execution_count": null,
      "outputs": [
        {
          "output_type": "stream",
          "name": "stdout",
          "text": [
            "Welcome to Rock, Paper, Scissors!\n",
            "Do you want to play? (yes/no): yes\n",
            "Enter rock, paper, or scissors: rock\n",
            "Computer chose: scissors\n",
            "You win!\n",
            "------------------------------\n",
            "Do you want to play? (yes/no): yes\n",
            "Enter rock, paper, or scissors: scissors\n",
            "Computer chose: scissors\n",
            "It's a tie!\n",
            "------------------------------\n",
            "Do you want to play? (yes/no): yes\n",
            "Enter rock, paper, or scissors: paper\n",
            "Computer chose: rock\n",
            "You win!\n",
            "------------------------------\n",
            "Do you want to play? (yes/no): no\n",
            "Thanks for playing! Goodbye.\n"
          ]
        }
      ]
    },
    {
      "cell_type": "code",
      "source": [
        "import random\n",
        "\n",
        "while True:\n",
        "  play = input('Do you want to play a game (yes/no)? ').lower()\n",
        "\n",
        "  if play != 'yes':\n",
        "    break\n",
        "\n",
        "  #rock paper scissors game here\n",
        "  user_choice = input('Choose between rock, paper, scissors: ')\n",
        "  pc_choice = random.choice(['rock','paper','scissors'])\n",
        "  print(f'User: {user_choice}, Computer: {pc_choice}')\n",
        "\n",
        "  if user_choice == pc_choice:\n",
        "    print('Tie')\n",
        "  elif (\n",
        "      (user_choice == 'rock' and pc_choice == 'scissors') or\n",
        "      (user_choice == 'scissors' and pc_choice == 'paper') or\n",
        "      (user_choice == 'paper' and pc_choice == 'rock')\n",
        "      ):\n",
        "      print('User wins')\n",
        "  else:\n",
        "    print('Computer wins')\n",
        "\n",
        "\n"
      ],
      "metadata": {
        "id": "1XaDcER7gnkI",
        "colab": {
          "base_uri": "https://localhost:8080/"
        },
        "outputId": "de95495e-1a88-4dc9-c57e-c60d1001d5f2"
      },
      "execution_count": null,
      "outputs": [
        {
          "name": "stdout",
          "output_type": "stream",
          "text": [
            "Do you want to play a game (yes/no)? yes\n",
            "Choose between rock, paper, scissors: rock\n",
            "User: rock, Computer: rock\n",
            "Tie\n",
            "Do you want to play a game (yes/no)? yes\n",
            "Choose between rock, paper, scissors: paper\n",
            "User: paper, Computer: paper\n",
            "Tie\n",
            "Do you want to play a game (yes/no)? yes\n",
            "Choose between rock, paper, scissors: rock\n",
            "User: rock, Computer: scissors\n",
            "User wins\n",
            "Do you want to play a game (yes/no)? yes\n",
            "Choose between rock, paper, scissors: scissors\n",
            "User: scissors, Computer: paper\n",
            "User wins\n",
            "Do you want to play a game (yes/no)? no\n"
          ]
        }
      ]
    },
    {
      "cell_type": "markdown",
      "source": [
        "October 1st - product prices"
      ],
      "metadata": {
        "id": "oO9Ht-0twPq9"
      }
    },
    {
      "cell_type": "code",
      "source": [
        "products = {\n",
        "    'P-01' : 9.95,\n",
        "    'P-02' : 10.50\n",
        "}\n",
        "\n",
        "id = input('Enter product ID: ')\n",
        "\n",
        "if id in products.keys():\n",
        "  print(f'Product: {id}, Price: ${products[id]}')\n",
        "else:\n",
        "  print(f'{id} not found')"
      ],
      "metadata": {
        "colab": {
          "base_uri": "https://localhost:8080/"
        },
        "id": "MADF_o6RwQmd",
        "outputId": "5ff20921-1ca5-4231-9eb3-4a7e91993baa"
      },
      "execution_count": 12,
      "outputs": [
        {
          "output_type": "stream",
          "name": "stdout",
          "text": [
            "Enter product ID: X\n",
            "X not found\n"
          ]
        }
      ]
    }
  ]
}